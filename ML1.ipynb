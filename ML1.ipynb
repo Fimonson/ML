{
 "cells": [
  {
   "cell_type": "markdown",
   "id": "b2ae7bde",
   "metadata": {},
   "source": [
    "# Описание задачи"
   ]
  },
  {
   "cell_type": "markdown",
   "id": "91ac1618",
   "metadata": {},
   "source": [
    "Футбол - это игра миллионов. Вот и я с самого детства являюсь футбольным болельщиком. Так же я делаю ставки на спорт и мне всегда хотелось выигрывать деньги, поэтому в данной работе будут предприняты основные шаги по разработке модели, которая прогнозирует результаты матчей в моей любимой Bundesliga за 1993-2018 года\n",
    "\n",
    "Этот набор данных содержит результаты всех матчей Бундеслиги с 1993-1994 по 2017-2018 годы. В него также включены результаты тайма, но только с 1995-96 по 2017-18 годы. Столбцы включают дивизион (обозначается как D1), домашнюю команду, выездную команду, FTHG (голы в финальном тайме дома), FTAG (голы в финальном тайме на выезде), FTR (результат в основное время), HTHG (голы в перерыве), HTAG (голы в перерыве на выезде), HTR (результат в перерыве) и сезон.\n",
    "    \n",
    "Для определения победителя нужно выполнить классификацию признака FTR, которая является результатом игры футбольных команд (H - победа хозяев поля, А - победа гостей , D - ничья).\n"
   ]
  },
  {
   "cell_type": "markdown",
   "id": "2de6840e",
   "metadata": {},
   "source": [
    "# Чтение данных"
   ]
  },
  {
   "cell_type": "code",
   "execution_count": 1,
   "id": "59d26ee6",
   "metadata": {},
   "outputs": [],
   "source": [
    "import numpy as np\n",
    "import matplotlib.pyplot as plt\n",
    "import pandas as pd\n",
    "%matplotlib inline"
   ]
  },
  {
   "cell_type": "code",
   "execution_count": 2,
   "id": "ddc39a85",
   "metadata": {},
   "outputs": [],
   "source": [
    "url = './Bundesliga_Results.csv'\n",
    "data = pd.read_csv(url)"
   ]
  },
  {
   "cell_type": "code",
   "execution_count": 3,
   "id": "291feec4",
   "metadata": {},
   "outputs": [
    {
     "data": {
      "text/plain": [
       "pandas.core.frame.DataFrame"
      ]
     },
     "execution_count": 3,
     "metadata": {},
     "output_type": "execute_result"
    }
   ],
   "source": [
    "type(data)"
   ]
  },
  {
   "cell_type": "code",
   "execution_count": 4,
   "id": "9fa80cc5",
   "metadata": {},
   "outputs": [
    {
     "data": {
      "text/html": [
       "<div>\n",
       "<style scoped>\n",
       "    .dataframe tbody tr th:only-of-type {\n",
       "        vertical-align: middle;\n",
       "    }\n",
       "\n",
       "    .dataframe tbody tr th {\n",
       "        vertical-align: top;\n",
       "    }\n",
       "\n",
       "    .dataframe thead th {\n",
       "        text-align: right;\n",
       "    }\n",
       "</style>\n",
       "<table border=\"1\" class=\"dataframe\">\n",
       "  <thead>\n",
       "    <tr style=\"text-align: right;\">\n",
       "      <th></th>\n",
       "      <th>Div</th>\n",
       "      <th>Date</th>\n",
       "      <th>HomeTeam</th>\n",
       "      <th>AwayTeam</th>\n",
       "      <th>FTHG</th>\n",
       "      <th>FTAG</th>\n",
       "      <th>FTR</th>\n",
       "      <th>HTHG</th>\n",
       "      <th>HTAG</th>\n",
       "      <th>HTR</th>\n",
       "      <th>Season</th>\n",
       "    </tr>\n",
       "  </thead>\n",
       "  <tbody>\n",
       "    <tr>\n",
       "      <th>0</th>\n",
       "      <td>D1</td>\n",
       "      <td>7/8/1993</td>\n",
       "      <td>Bayern Munich</td>\n",
       "      <td>Freiburg</td>\n",
       "      <td>3</td>\n",
       "      <td>1</td>\n",
       "      <td>H</td>\n",
       "      <td>NaN</td>\n",
       "      <td>NaN</td>\n",
       "      <td>NaN</td>\n",
       "      <td>1993-94</td>\n",
       "    </tr>\n",
       "    <tr>\n",
       "      <th>1</th>\n",
       "      <td>D1</td>\n",
       "      <td>7/8/1993</td>\n",
       "      <td>Dortmund</td>\n",
       "      <td>Karlsruhe</td>\n",
       "      <td>2</td>\n",
       "      <td>1</td>\n",
       "      <td>H</td>\n",
       "      <td>NaN</td>\n",
       "      <td>NaN</td>\n",
       "      <td>NaN</td>\n",
       "      <td>1993-94</td>\n",
       "    </tr>\n",
       "    <tr>\n",
       "      <th>2</th>\n",
       "      <td>D1</td>\n",
       "      <td>7/8/1993</td>\n",
       "      <td>Duisburg</td>\n",
       "      <td>Leverkusen</td>\n",
       "      <td>2</td>\n",
       "      <td>2</td>\n",
       "      <td>D</td>\n",
       "      <td>NaN</td>\n",
       "      <td>NaN</td>\n",
       "      <td>NaN</td>\n",
       "      <td>1993-94</td>\n",
       "    </tr>\n",
       "    <tr>\n",
       "      <th>3</th>\n",
       "      <td>D1</td>\n",
       "      <td>7/8/1993</td>\n",
       "      <td>FC Koln</td>\n",
       "      <td>Kaiserslautern</td>\n",
       "      <td>0</td>\n",
       "      <td>2</td>\n",
       "      <td>A</td>\n",
       "      <td>NaN</td>\n",
       "      <td>NaN</td>\n",
       "      <td>NaN</td>\n",
       "      <td>1993-94</td>\n",
       "    </tr>\n",
       "    <tr>\n",
       "      <th>4</th>\n",
       "      <td>D1</td>\n",
       "      <td>7/8/1993</td>\n",
       "      <td>Hamburg</td>\n",
       "      <td>Nurnberg</td>\n",
       "      <td>5</td>\n",
       "      <td>2</td>\n",
       "      <td>H</td>\n",
       "      <td>NaN</td>\n",
       "      <td>NaN</td>\n",
       "      <td>NaN</td>\n",
       "      <td>1993-94</td>\n",
       "    </tr>\n",
       "    <tr>\n",
       "      <th>...</th>\n",
       "      <td>...</td>\n",
       "      <td>...</td>\n",
       "      <td>...</td>\n",
       "      <td>...</td>\n",
       "      <td>...</td>\n",
       "      <td>...</td>\n",
       "      <td>...</td>\n",
       "      <td>...</td>\n",
       "      <td>...</td>\n",
       "      <td>...</td>\n",
       "      <td>...</td>\n",
       "    </tr>\n",
       "    <tr>\n",
       "      <th>7645</th>\n",
       "      <td>D1</td>\n",
       "      <td>12/5/2018</td>\n",
       "      <td>Hoffenheim</td>\n",
       "      <td>Dortmund</td>\n",
       "      <td>3</td>\n",
       "      <td>1</td>\n",
       "      <td>H</td>\n",
       "      <td>1.0</td>\n",
       "      <td>0.0</td>\n",
       "      <td>H</td>\n",
       "      <td>2017-18</td>\n",
       "    </tr>\n",
       "    <tr>\n",
       "      <th>7646</th>\n",
       "      <td>D1</td>\n",
       "      <td>12/5/2018</td>\n",
       "      <td>Leverkusen</td>\n",
       "      <td>Hannover</td>\n",
       "      <td>3</td>\n",
       "      <td>2</td>\n",
       "      <td>H</td>\n",
       "      <td>2.0</td>\n",
       "      <td>0.0</td>\n",
       "      <td>H</td>\n",
       "      <td>2017-18</td>\n",
       "    </tr>\n",
       "    <tr>\n",
       "      <th>7647</th>\n",
       "      <td>D1</td>\n",
       "      <td>12/5/2018</td>\n",
       "      <td>Mainz</td>\n",
       "      <td>Werder Bremen</td>\n",
       "      <td>1</td>\n",
       "      <td>2</td>\n",
       "      <td>A</td>\n",
       "      <td>1.0</td>\n",
       "      <td>1.0</td>\n",
       "      <td>D</td>\n",
       "      <td>2017-18</td>\n",
       "    </tr>\n",
       "    <tr>\n",
       "      <th>7648</th>\n",
       "      <td>D1</td>\n",
       "      <td>12/5/2018</td>\n",
       "      <td>Schalke 04</td>\n",
       "      <td>Ein Frankfurt</td>\n",
       "      <td>1</td>\n",
       "      <td>0</td>\n",
       "      <td>H</td>\n",
       "      <td>1.0</td>\n",
       "      <td>0.0</td>\n",
       "      <td>H</td>\n",
       "      <td>2017-18</td>\n",
       "    </tr>\n",
       "    <tr>\n",
       "      <th>7649</th>\n",
       "      <td>D1</td>\n",
       "      <td>12/5/2018</td>\n",
       "      <td>Wolfsburg</td>\n",
       "      <td>FC Koln</td>\n",
       "      <td>4</td>\n",
       "      <td>1</td>\n",
       "      <td>H</td>\n",
       "      <td>1.0</td>\n",
       "      <td>1.0</td>\n",
       "      <td>D</td>\n",
       "      <td>2017-18</td>\n",
       "    </tr>\n",
       "  </tbody>\n",
       "</table>\n",
       "<p>7650 rows × 11 columns</p>\n",
       "</div>"
      ],
      "text/plain": [
       "     Div       Date       HomeTeam        AwayTeam  FTHG  FTAG FTR  HTHG  \\\n",
       "0     D1   7/8/1993  Bayern Munich        Freiburg     3     1   H   NaN   \n",
       "1     D1   7/8/1993       Dortmund       Karlsruhe     2     1   H   NaN   \n",
       "2     D1   7/8/1993       Duisburg      Leverkusen     2     2   D   NaN   \n",
       "3     D1   7/8/1993        FC Koln  Kaiserslautern     0     2   A   NaN   \n",
       "4     D1   7/8/1993        Hamburg        Nurnberg     5     2   H   NaN   \n",
       "...   ..        ...            ...             ...   ...   ...  ..   ...   \n",
       "7645  D1  12/5/2018     Hoffenheim        Dortmund     3     1   H   1.0   \n",
       "7646  D1  12/5/2018     Leverkusen        Hannover     3     2   H   2.0   \n",
       "7647  D1  12/5/2018          Mainz   Werder Bremen     1     2   A   1.0   \n",
       "7648  D1  12/5/2018     Schalke 04   Ein Frankfurt     1     0   H   1.0   \n",
       "7649  D1  12/5/2018      Wolfsburg         FC Koln     4     1   H   1.0   \n",
       "\n",
       "      HTAG  HTR   Season  \n",
       "0      NaN  NaN  1993-94  \n",
       "1      NaN  NaN  1993-94  \n",
       "2      NaN  NaN  1993-94  \n",
       "3      NaN  NaN  1993-94  \n",
       "4      NaN  NaN  1993-94  \n",
       "...    ...  ...      ...  \n",
       "7645   0.0    H  2017-18  \n",
       "7646   0.0    H  2017-18  \n",
       "7647   1.0    D  2017-18  \n",
       "7648   0.0    H  2017-18  \n",
       "7649   1.0    D  2017-18  \n",
       "\n",
       "[7650 rows x 11 columns]"
      ]
     },
     "execution_count": 4,
     "metadata": {},
     "output_type": "execute_result"
    }
   ],
   "source": [
    "data"
   ]
  },
  {
   "cell_type": "code",
   "execution_count": 5,
   "id": "074a7538",
   "metadata": {},
   "outputs": [
    {
     "name": "stdout",
     "output_type": "stream",
     "text": [
      "     Div       Date       HomeTeam        AwayTeam  FTHG  FTAG FTR  HTHG  \\\n",
      "0     D1   7/8/1993  Bayern Munich        Freiburg     3     1   H   NaN   \n",
      "1     D1   7/8/1993       Dortmund       Karlsruhe     2     1   H   NaN   \n",
      "2     D1   7/8/1993       Duisburg      Leverkusen     2     2   D   NaN   \n",
      "3     D1   7/8/1993        FC Koln  Kaiserslautern     0     2   A   NaN   \n",
      "4     D1   7/8/1993        Hamburg        Nurnberg     5     2   H   NaN   \n",
      "...   ..        ...            ...             ...   ...   ...  ..   ...   \n",
      "7645  D1  12/5/2018     Hoffenheim        Dortmund     3     1   H   1.0   \n",
      "7646  D1  12/5/2018     Leverkusen        Hannover     3     2   H   2.0   \n",
      "7647  D1  12/5/2018          Mainz   Werder Bremen     1     2   A   1.0   \n",
      "7648  D1  12/5/2018     Schalke 04   Ein Frankfurt     1     0   H   1.0   \n",
      "7649  D1  12/5/2018      Wolfsburg         FC Koln     4     1   H   1.0   \n",
      "\n",
      "      HTAG  HTR   Season  \n",
      "0      NaN  NaN  1993-94  \n",
      "1      NaN  NaN  1993-94  \n",
      "2      NaN  NaN  1993-94  \n",
      "3      NaN  NaN  1993-94  \n",
      "4      NaN  NaN  1993-94  \n",
      "...    ...  ...      ...  \n",
      "7645   0.0    H  2017-18  \n",
      "7646   0.0    H  2017-18  \n",
      "7647   1.0    D  2017-18  \n",
      "7648   0.0    H  2017-18  \n",
      "7649   1.0    D  2017-18  \n",
      "\n",
      "[7650 rows x 11 columns]\n"
     ]
    }
   ],
   "source": [
    "print(data)"
   ]
  },
  {
   "cell_type": "code",
   "execution_count": 6,
   "id": "71bfca8a",
   "metadata": {},
   "outputs": [
    {
     "data": {
      "text/html": [
       "<div>\n",
       "<style scoped>\n",
       "    .dataframe tbody tr th:only-of-type {\n",
       "        vertical-align: middle;\n",
       "    }\n",
       "\n",
       "    .dataframe tbody tr th {\n",
       "        vertical-align: top;\n",
       "    }\n",
       "\n",
       "    .dataframe thead th {\n",
       "        text-align: right;\n",
       "    }\n",
       "</style>\n",
       "<table border=\"1\" class=\"dataframe\">\n",
       "  <thead>\n",
       "    <tr style=\"text-align: right;\">\n",
       "      <th></th>\n",
       "      <th>Div</th>\n",
       "      <th>Date</th>\n",
       "      <th>HomeTeam</th>\n",
       "      <th>AwayTeam</th>\n",
       "      <th>FTHG</th>\n",
       "      <th>FTAG</th>\n",
       "      <th>FTR</th>\n",
       "      <th>HTHG</th>\n",
       "      <th>HTAG</th>\n",
       "      <th>HTR</th>\n",
       "      <th>Season</th>\n",
       "    </tr>\n",
       "  </thead>\n",
       "  <tbody>\n",
       "    <tr>\n",
       "      <th>0</th>\n",
       "      <td>D1</td>\n",
       "      <td>7/8/1993</td>\n",
       "      <td>Bayern Munich</td>\n",
       "      <td>Freiburg</td>\n",
       "      <td>3</td>\n",
       "      <td>1</td>\n",
       "      <td>H</td>\n",
       "      <td>NaN</td>\n",
       "      <td>NaN</td>\n",
       "      <td>NaN</td>\n",
       "      <td>1993-94</td>\n",
       "    </tr>\n",
       "    <tr>\n",
       "      <th>1</th>\n",
       "      <td>D1</td>\n",
       "      <td>7/8/1993</td>\n",
       "      <td>Dortmund</td>\n",
       "      <td>Karlsruhe</td>\n",
       "      <td>2</td>\n",
       "      <td>1</td>\n",
       "      <td>H</td>\n",
       "      <td>NaN</td>\n",
       "      <td>NaN</td>\n",
       "      <td>NaN</td>\n",
       "      <td>1993-94</td>\n",
       "    </tr>\n",
       "    <tr>\n",
       "      <th>2</th>\n",
       "      <td>D1</td>\n",
       "      <td>7/8/1993</td>\n",
       "      <td>Duisburg</td>\n",
       "      <td>Leverkusen</td>\n",
       "      <td>2</td>\n",
       "      <td>2</td>\n",
       "      <td>D</td>\n",
       "      <td>NaN</td>\n",
       "      <td>NaN</td>\n",
       "      <td>NaN</td>\n",
       "      <td>1993-94</td>\n",
       "    </tr>\n",
       "    <tr>\n",
       "      <th>3</th>\n",
       "      <td>D1</td>\n",
       "      <td>7/8/1993</td>\n",
       "      <td>FC Koln</td>\n",
       "      <td>Kaiserslautern</td>\n",
       "      <td>0</td>\n",
       "      <td>2</td>\n",
       "      <td>A</td>\n",
       "      <td>NaN</td>\n",
       "      <td>NaN</td>\n",
       "      <td>NaN</td>\n",
       "      <td>1993-94</td>\n",
       "    </tr>\n",
       "    <tr>\n",
       "      <th>4</th>\n",
       "      <td>D1</td>\n",
       "      <td>7/8/1993</td>\n",
       "      <td>Hamburg</td>\n",
       "      <td>Nurnberg</td>\n",
       "      <td>5</td>\n",
       "      <td>2</td>\n",
       "      <td>H</td>\n",
       "      <td>NaN</td>\n",
       "      <td>NaN</td>\n",
       "      <td>NaN</td>\n",
       "      <td>1993-94</td>\n",
       "    </tr>\n",
       "  </tbody>\n",
       "</table>\n",
       "</div>"
      ],
      "text/plain": [
       "  Div      Date       HomeTeam        AwayTeam  FTHG  FTAG FTR  HTHG  HTAG  \\\n",
       "0  D1  7/8/1993  Bayern Munich        Freiburg     3     1   H   NaN   NaN   \n",
       "1  D1  7/8/1993       Dortmund       Karlsruhe     2     1   H   NaN   NaN   \n",
       "2  D1  7/8/1993       Duisburg      Leverkusen     2     2   D   NaN   NaN   \n",
       "3  D1  7/8/1993        FC Koln  Kaiserslautern     0     2   A   NaN   NaN   \n",
       "4  D1  7/8/1993        Hamburg        Nurnberg     5     2   H   NaN   NaN   \n",
       "\n",
       "   HTR   Season  \n",
       "0  NaN  1993-94  \n",
       "1  NaN  1993-94  \n",
       "2  NaN  1993-94  \n",
       "3  NaN  1993-94  \n",
       "4  NaN  1993-94  "
      ]
     },
     "execution_count": 6,
     "metadata": {},
     "output_type": "execute_result"
    }
   ],
   "source": [
    "data.head()"
   ]
  },
  {
   "cell_type": "code",
   "execution_count": 7,
   "id": "31d0c5c6",
   "metadata": {},
   "outputs": [
    {
     "data": {
      "text/html": [
       "<div>\n",
       "<style scoped>\n",
       "    .dataframe tbody tr th:only-of-type {\n",
       "        vertical-align: middle;\n",
       "    }\n",
       "\n",
       "    .dataframe tbody tr th {\n",
       "        vertical-align: top;\n",
       "    }\n",
       "\n",
       "    .dataframe thead th {\n",
       "        text-align: right;\n",
       "    }\n",
       "</style>\n",
       "<table border=\"1\" class=\"dataframe\">\n",
       "  <thead>\n",
       "    <tr style=\"text-align: right;\">\n",
       "      <th></th>\n",
       "      <th>Div</th>\n",
       "      <th>Date</th>\n",
       "      <th>HomeTeam</th>\n",
       "      <th>AwayTeam</th>\n",
       "      <th>FTHG</th>\n",
       "      <th>FTAG</th>\n",
       "      <th>FTR</th>\n",
       "      <th>HTHG</th>\n",
       "      <th>HTAG</th>\n",
       "      <th>HTR</th>\n",
       "      <th>Season</th>\n",
       "    </tr>\n",
       "  </thead>\n",
       "  <tbody>\n",
       "    <tr>\n",
       "      <th>7645</th>\n",
       "      <td>D1</td>\n",
       "      <td>12/5/2018</td>\n",
       "      <td>Hoffenheim</td>\n",
       "      <td>Dortmund</td>\n",
       "      <td>3</td>\n",
       "      <td>1</td>\n",
       "      <td>H</td>\n",
       "      <td>1.0</td>\n",
       "      <td>0.0</td>\n",
       "      <td>H</td>\n",
       "      <td>2017-18</td>\n",
       "    </tr>\n",
       "    <tr>\n",
       "      <th>7646</th>\n",
       "      <td>D1</td>\n",
       "      <td>12/5/2018</td>\n",
       "      <td>Leverkusen</td>\n",
       "      <td>Hannover</td>\n",
       "      <td>3</td>\n",
       "      <td>2</td>\n",
       "      <td>H</td>\n",
       "      <td>2.0</td>\n",
       "      <td>0.0</td>\n",
       "      <td>H</td>\n",
       "      <td>2017-18</td>\n",
       "    </tr>\n",
       "    <tr>\n",
       "      <th>7647</th>\n",
       "      <td>D1</td>\n",
       "      <td>12/5/2018</td>\n",
       "      <td>Mainz</td>\n",
       "      <td>Werder Bremen</td>\n",
       "      <td>1</td>\n",
       "      <td>2</td>\n",
       "      <td>A</td>\n",
       "      <td>1.0</td>\n",
       "      <td>1.0</td>\n",
       "      <td>D</td>\n",
       "      <td>2017-18</td>\n",
       "    </tr>\n",
       "    <tr>\n",
       "      <th>7648</th>\n",
       "      <td>D1</td>\n",
       "      <td>12/5/2018</td>\n",
       "      <td>Schalke 04</td>\n",
       "      <td>Ein Frankfurt</td>\n",
       "      <td>1</td>\n",
       "      <td>0</td>\n",
       "      <td>H</td>\n",
       "      <td>1.0</td>\n",
       "      <td>0.0</td>\n",
       "      <td>H</td>\n",
       "      <td>2017-18</td>\n",
       "    </tr>\n",
       "    <tr>\n",
       "      <th>7649</th>\n",
       "      <td>D1</td>\n",
       "      <td>12/5/2018</td>\n",
       "      <td>Wolfsburg</td>\n",
       "      <td>FC Koln</td>\n",
       "      <td>4</td>\n",
       "      <td>1</td>\n",
       "      <td>H</td>\n",
       "      <td>1.0</td>\n",
       "      <td>1.0</td>\n",
       "      <td>D</td>\n",
       "      <td>2017-18</td>\n",
       "    </tr>\n",
       "  </tbody>\n",
       "</table>\n",
       "</div>"
      ],
      "text/plain": [
       "     Div       Date    HomeTeam       AwayTeam  FTHG  FTAG FTR  HTHG  HTAG  \\\n",
       "7645  D1  12/5/2018  Hoffenheim       Dortmund     3     1   H   1.0   0.0   \n",
       "7646  D1  12/5/2018  Leverkusen       Hannover     3     2   H   2.0   0.0   \n",
       "7647  D1  12/5/2018       Mainz  Werder Bremen     1     2   A   1.0   1.0   \n",
       "7648  D1  12/5/2018  Schalke 04  Ein Frankfurt     1     0   H   1.0   0.0   \n",
       "7649  D1  12/5/2018   Wolfsburg        FC Koln     4     1   H   1.0   1.0   \n",
       "\n",
       "     HTR   Season  \n",
       "7645   H  2017-18  \n",
       "7646   H  2017-18  \n",
       "7647   D  2017-18  \n",
       "7648   H  2017-18  \n",
       "7649   D  2017-18  "
      ]
     },
     "execution_count": 7,
     "metadata": {},
     "output_type": "execute_result"
    }
   ],
   "source": [
    "data.tail()"
   ]
  },
  {
   "cell_type": "code",
   "execution_count": 8,
   "id": "9bec46d3",
   "metadata": {},
   "outputs": [
    {
     "data": {
      "text/plain": [
       "(7650, 11)"
      ]
     },
     "execution_count": 8,
     "metadata": {},
     "output_type": "execute_result"
    }
   ],
   "source": [
    "data.shape"
   ]
  },
  {
   "cell_type": "code",
   "execution_count": 9,
   "id": "c63f8cd1",
   "metadata": {},
   "outputs": [
    {
     "data": {
      "text/html": [
       "<div>\n",
       "<style scoped>\n",
       "    .dataframe tbody tr th:only-of-type {\n",
       "        vertical-align: middle;\n",
       "    }\n",
       "\n",
       "    .dataframe tbody tr th {\n",
       "        vertical-align: top;\n",
       "    }\n",
       "\n",
       "    .dataframe thead th {\n",
       "        text-align: right;\n",
       "    }\n",
       "</style>\n",
       "<table border=\"1\" class=\"dataframe\">\n",
       "  <thead>\n",
       "    <tr style=\"text-align: right;\">\n",
       "      <th></th>\n",
       "      <th>FTHG</th>\n",
       "      <th>FTAG</th>\n",
       "      <th>HTHG</th>\n",
       "      <th>HTAG</th>\n",
       "    </tr>\n",
       "  </thead>\n",
       "  <tbody>\n",
       "    <tr>\n",
       "      <th>count</th>\n",
       "      <td>7650.000000</td>\n",
       "      <td>7650.000000</td>\n",
       "      <td>7038.000000</td>\n",
       "      <td>7038.000000</td>\n",
       "    </tr>\n",
       "    <tr>\n",
       "      <th>mean</th>\n",
       "      <td>1.660000</td>\n",
       "      <td>1.214771</td>\n",
       "      <td>0.727764</td>\n",
       "      <td>0.523728</td>\n",
       "    </tr>\n",
       "    <tr>\n",
       "      <th>std</th>\n",
       "      <td>1.332276</td>\n",
       "      <td>1.158288</td>\n",
       "      <td>0.852518</td>\n",
       "      <td>0.713413</td>\n",
       "    </tr>\n",
       "    <tr>\n",
       "      <th>min</th>\n",
       "      <td>0.000000</td>\n",
       "      <td>0.000000</td>\n",
       "      <td>0.000000</td>\n",
       "      <td>0.000000</td>\n",
       "    </tr>\n",
       "    <tr>\n",
       "      <th>25%</th>\n",
       "      <td>1.000000</td>\n",
       "      <td>0.000000</td>\n",
       "      <td>0.000000</td>\n",
       "      <td>0.000000</td>\n",
       "    </tr>\n",
       "    <tr>\n",
       "      <th>50%</th>\n",
       "      <td>1.000000</td>\n",
       "      <td>1.000000</td>\n",
       "      <td>1.000000</td>\n",
       "      <td>0.000000</td>\n",
       "    </tr>\n",
       "    <tr>\n",
       "      <th>75%</th>\n",
       "      <td>2.000000</td>\n",
       "      <td>2.000000</td>\n",
       "      <td>1.000000</td>\n",
       "      <td>1.000000</td>\n",
       "    </tr>\n",
       "    <tr>\n",
       "      <th>max</th>\n",
       "      <td>9.000000</td>\n",
       "      <td>9.000000</td>\n",
       "      <td>5.000000</td>\n",
       "      <td>5.000000</td>\n",
       "    </tr>\n",
       "  </tbody>\n",
       "</table>\n",
       "</div>"
      ],
      "text/plain": [
       "              FTHG         FTAG         HTHG         HTAG\n",
       "count  7650.000000  7650.000000  7038.000000  7038.000000\n",
       "mean      1.660000     1.214771     0.727764     0.523728\n",
       "std       1.332276     1.158288     0.852518     0.713413\n",
       "min       0.000000     0.000000     0.000000     0.000000\n",
       "25%       1.000000     0.000000     0.000000     0.000000\n",
       "50%       1.000000     1.000000     1.000000     0.000000\n",
       "75%       2.000000     2.000000     1.000000     1.000000\n",
       "max       9.000000     9.000000     5.000000     5.000000"
      ]
     },
     "execution_count": 9,
     "metadata": {},
     "output_type": "execute_result"
    }
   ],
   "source": [
    "data.describe()"
   ]
  },
  {
   "cell_type": "markdown",
   "id": "53542b76",
   "metadata": {},
   "source": [
    "удалю не нужные признаки в датасете"
   ]
  },
  {
   "cell_type": "code",
   "execution_count": 10,
   "id": "a4bebb58",
   "metadata": {},
   "outputs": [
    {
     "data": {
      "text/plain": [
       "H    3587\n",
       "A    2099\n",
       "D    1964\n",
       "Name: FTR, dtype: int64"
      ]
     },
     "execution_count": 10,
     "metadata": {},
     "output_type": "execute_result"
    }
   ],
   "source": [
    "data.drop(['Div', 'Season'], axis=1, inplace=True)\n",
    "data.reset_index(drop=True, inplace=True)\n",
    "\n",
    "data['FTR'].value_counts()"
   ]
  },
  {
   "cell_type": "code",
   "execution_count": 11,
   "id": "721a9d81",
   "metadata": {},
   "outputs": [
    {
     "data": {
      "text/plain": [
       "(7650, 9)"
      ]
     },
     "execution_count": 11,
     "metadata": {},
     "output_type": "execute_result"
    }
   ],
   "source": [
    "data.shape"
   ]
  },
  {
   "cell_type": "markdown",
   "id": "3c1bc956",
   "metadata": {},
   "source": [
    "# Обработка пропущенных значений"
   ]
  },
  {
   "cell_type": "markdown",
   "id": "ee27bef3",
   "metadata": {},
   "source": [
    "Смотрю сколько всего пропущенных значений в каждом столбце датасета"
   ]
  },
  {
   "cell_type": "code",
   "execution_count": 12,
   "id": "c6b913a6",
   "metadata": {},
   "outputs": [
    {
     "data": {
      "text/plain": [
       "Date          0\n",
       "HomeTeam      0\n",
       "AwayTeam      0\n",
       "FTHG          0\n",
       "FTAG          0\n",
       "FTR           0\n",
       "HTHG        612\n",
       "HTAG        612\n",
       "HTR         612\n",
       "dtype: int64"
      ]
     },
     "execution_count": 12,
     "metadata": {},
     "output_type": "execute_result"
    }
   ],
   "source": [
    "data.isna().sum()"
   ]
  },
  {
   "cell_type": "markdown",
   "id": "52e4434f",
   "metadata": {},
   "source": [
    "Таким образом в dataset содержится данные с пропущенными значениями. Заполним пропущенные значения медианами, которые соответствуют числовым признакам.\n",
    "Помимо этого у нас есть один категориальный признак: HTR - заполним его модой."
   ]
  },
  {
   "cell_type": "code",
   "execution_count": 13,
   "id": "587feb01",
   "metadata": {},
   "outputs": [],
   "source": [
    "data.fillna(data.median(axis=0, numeric_only=True), axis=0 , inplace=True)\n",
    "data['HTR'].fillna(data['HTR'].mode().iloc[0], inplace=True)"
   ]
  },
  {
   "cell_type": "code",
   "execution_count": 14,
   "id": "9f359e9e",
   "metadata": {},
   "outputs": [
    {
     "data": {
      "text/plain": [
       "Date        0\n",
       "HomeTeam    0\n",
       "AwayTeam    0\n",
       "FTHG        0\n",
       "FTAG        0\n",
       "FTR         0\n",
       "HTHG        0\n",
       "HTAG        0\n",
       "HTR         0\n",
       "dtype: int64"
      ]
     },
     "execution_count": 14,
     "metadata": {},
     "output_type": "execute_result"
    }
   ],
   "source": [
    "data.isna().sum()"
   ]
  },
  {
   "cell_type": "markdown",
   "id": "e1a74942",
   "metadata": {},
   "source": [
    "Работа с выбросами"
   ]
  },
  {
   "cell_type": "code",
   "execution_count": 15,
   "id": "75a723c0",
   "metadata": {},
   "outputs": [
    {
     "data": {
      "text/plain": [
       "0       3\n",
       "1       2\n",
       "2       2\n",
       "3       0\n",
       "4       5\n",
       "       ..\n",
       "7645    3\n",
       "7646    3\n",
       "7647    1\n",
       "7648    1\n",
       "7649    4\n",
       "Name: FTHG, Length: 7650, dtype: int64"
      ]
     },
     "execution_count": 15,
     "metadata": {},
     "output_type": "execute_result"
    }
   ],
   "source": [
    "data['FTHG']"
   ]
  },
  {
   "cell_type": "code",
   "execution_count": 16,
   "id": "8e2ccb0d",
   "metadata": {},
   "outputs": [
    {
     "data": {
      "text/plain": [
       "0       1\n",
       "1       1\n",
       "2       2\n",
       "3       2\n",
       "4       2\n",
       "       ..\n",
       "7645    1\n",
       "7646    2\n",
       "7647    2\n",
       "7648    0\n",
       "7649    1\n",
       "Name: FTAG, Length: 7650, dtype: int64"
      ]
     },
     "execution_count": 16,
     "metadata": {},
     "output_type": "execute_result"
    }
   ],
   "source": [
    "data['FTAG']"
   ]
  },
  {
   "cell_type": "code",
   "execution_count": 17,
   "id": "61d8f885",
   "metadata": {},
   "outputs": [
    {
     "data": {
      "text/plain": [
       "0       1.0\n",
       "1       1.0\n",
       "2       1.0\n",
       "3       1.0\n",
       "4       1.0\n",
       "       ... \n",
       "7645    1.0\n",
       "7646    2.0\n",
       "7647    1.0\n",
       "7648    1.0\n",
       "7649    1.0\n",
       "Name: HTHG, Length: 7650, dtype: float64"
      ]
     },
     "execution_count": 17,
     "metadata": {},
     "output_type": "execute_result"
    }
   ],
   "source": [
    "data['HTHG']"
   ]
  },
  {
   "cell_type": "code",
   "execution_count": 18,
   "id": "fc153f7c",
   "metadata": {},
   "outputs": [
    {
     "data": {
      "text/plain": [
       "0       0.0\n",
       "1       0.0\n",
       "2       0.0\n",
       "3       0.0\n",
       "4       0.0\n",
       "       ... \n",
       "7645    0.0\n",
       "7646    0.0\n",
       "7647    1.0\n",
       "7648    0.0\n",
       "7649    1.0\n",
       "Name: HTAG, Length: 7650, dtype: float64"
      ]
     },
     "execution_count": 18,
     "metadata": {},
     "output_type": "execute_result"
    }
   ],
   "source": [
    "data['HTAG']"
   ]
  },
  {
   "cell_type": "markdown",
   "id": "5a6e7ec2",
   "metadata": {},
   "source": [
    "В данном dataset нет выбросов"
   ]
  },
  {
   "cell_type": "markdown",
   "id": "4a9ef8e9",
   "metadata": {},
   "source": [
    "# Визуализация данных"
   ]
  },
  {
   "cell_type": "code",
   "execution_count": 19,
   "id": "f701b46f",
   "metadata": {},
   "outputs": [
    {
     "data": {
      "text/html": [
       "<div>\n",
       "<style scoped>\n",
       "    .dataframe tbody tr th:only-of-type {\n",
       "        vertical-align: middle;\n",
       "    }\n",
       "\n",
       "    .dataframe tbody tr th {\n",
       "        vertical-align: top;\n",
       "    }\n",
       "\n",
       "    .dataframe thead th {\n",
       "        text-align: right;\n",
       "    }\n",
       "</style>\n",
       "<table border=\"1\" class=\"dataframe\">\n",
       "  <thead>\n",
       "    <tr style=\"text-align: right;\">\n",
       "      <th></th>\n",
       "      <th>FTHG</th>\n",
       "      <th>FTAG</th>\n",
       "      <th>HTHG</th>\n",
       "      <th>HTAG</th>\n",
       "    </tr>\n",
       "  </thead>\n",
       "  <tbody>\n",
       "    <tr>\n",
       "      <th>count</th>\n",
       "      <td>7650.000000</td>\n",
       "      <td>7650.000000</td>\n",
       "      <td>7650.000000</td>\n",
       "      <td>7650.000000</td>\n",
       "    </tr>\n",
       "    <tr>\n",
       "      <th>mean</th>\n",
       "      <td>1.660000</td>\n",
       "      <td>1.214771</td>\n",
       "      <td>0.749542</td>\n",
       "      <td>0.481830</td>\n",
       "    </tr>\n",
       "    <tr>\n",
       "      <th>std</th>\n",
       "      <td>1.332276</td>\n",
       "      <td>1.158288</td>\n",
       "      <td>0.821031</td>\n",
       "      <td>0.698875</td>\n",
       "    </tr>\n",
       "    <tr>\n",
       "      <th>min</th>\n",
       "      <td>0.000000</td>\n",
       "      <td>0.000000</td>\n",
       "      <td>0.000000</td>\n",
       "      <td>0.000000</td>\n",
       "    </tr>\n",
       "    <tr>\n",
       "      <th>25%</th>\n",
       "      <td>1.000000</td>\n",
       "      <td>0.000000</td>\n",
       "      <td>0.000000</td>\n",
       "      <td>0.000000</td>\n",
       "    </tr>\n",
       "    <tr>\n",
       "      <th>50%</th>\n",
       "      <td>1.000000</td>\n",
       "      <td>1.000000</td>\n",
       "      <td>1.000000</td>\n",
       "      <td>0.000000</td>\n",
       "    </tr>\n",
       "    <tr>\n",
       "      <th>75%</th>\n",
       "      <td>2.000000</td>\n",
       "      <td>2.000000</td>\n",
       "      <td>1.000000</td>\n",
       "      <td>1.000000</td>\n",
       "    </tr>\n",
       "    <tr>\n",
       "      <th>max</th>\n",
       "      <td>9.000000</td>\n",
       "      <td>9.000000</td>\n",
       "      <td>5.000000</td>\n",
       "      <td>5.000000</td>\n",
       "    </tr>\n",
       "  </tbody>\n",
       "</table>\n",
       "</div>"
      ],
      "text/plain": [
       "              FTHG         FTAG         HTHG         HTAG\n",
       "count  7650.000000  7650.000000  7650.000000  7650.000000\n",
       "mean      1.660000     1.214771     0.749542     0.481830\n",
       "std       1.332276     1.158288     0.821031     0.698875\n",
       "min       0.000000     0.000000     0.000000     0.000000\n",
       "25%       1.000000     0.000000     0.000000     0.000000\n",
       "50%       1.000000     1.000000     1.000000     0.000000\n",
       "75%       2.000000     2.000000     1.000000     1.000000\n",
       "max       9.000000     9.000000     5.000000     5.000000"
      ]
     },
     "execution_count": 19,
     "metadata": {},
     "output_type": "execute_result"
    }
   ],
   "source": [
    "data.describe()"
   ]
  },
  {
   "cell_type": "markdown",
   "id": "86815a19",
   "metadata": {},
   "source": [
    "Выведу график корреляции для dataset"
   ]
  },
  {
   "cell_type": "code",
   "execution_count": 20,
   "id": "955cfcf5",
   "metadata": {},
   "outputs": [],
   "source": [
    "import sklearn\n",
    "import seaborn as sns\n",
    "from sklearn.preprocessing import LabelEncoder"
   ]
  },
  {
   "cell_type": "code",
   "execution_count": 21,
   "id": "c686973b",
   "metadata": {},
   "outputs": [
    {
     "data": {
      "text/plain": [
       "<AxesSubplot:>"
      ]
     },
     "execution_count": 21,
     "metadata": {},
     "output_type": "execute_result"
    },
    {
     "data": {
      "image/png": "[encoded data removed]",
      "text/plain": [
       "<Figure size 640x480 with 2 Axes>"
      ]
     },
     "metadata": {},
     "output_type": "display_data"
    }
   ],
   "source": [
    "LE = LabelEncoder()\n",
    "LE.fit(data['FTR'])\n",
    "data['FTR'] = LE.transform(data['FTR'])\n",
    "LE.fit(data['HTR'])\n",
    "data['HTR'] = LE.transform(data['HTR'])\n",
    "corr = data.corr()\n",
    "sns.heatmap(data.corr(), cmap = 'coolwarm', annot=True)"
   ]
  },
  {
   "cell_type": "markdown",
   "id": "58001676",
   "metadata": {},
   "source": [
    "Из корреляционный матрицы видно, что сильных корреляций (> 0.5) есть.\n",
    "Определим коррелирующие между собой признаки"
   ]
  },
  {
   "cell_type": "code",
   "execution_count": 22,
   "id": "65110424",
   "metadata": {},
   "outputs": [
    {
     "data": {
      "text/plain": [
       "FTHG  HTHG    0.654799\n",
       "HTHG  HTR     0.659580\n",
       "dtype: float64"
      ]
     },
     "execution_count": 22,
     "metadata": {},
     "output_type": "execute_result"
    }
   ],
   "source": [
    "corr = data.corr()\n",
    "corr.where(np.triu(corr > 0.65, k=1)).stack()"
   ]
  },
  {
   "cell_type": "markdown",
   "id": "37a1aba0",
   "metadata": {},
   "source": [
    "Посмотрим, сбалансированы ли наши данные"
   ]
  },
  {
   "cell_type": "code",
   "execution_count": 23,
   "id": "4eadba92",
   "metadata": {},
   "outputs": [
    {
     "data": {
      "image/png": "[encoded data removed]",
      "text/plain": [
       "<Figure size 640x480 with 1 Axes>"
      ]
     },
     "metadata": {},
     "output_type": "display_data"
    }
   ],
   "source": [
    "sns.countplot(x='FTR', data=data);"
   ]
  },
  {
   "cell_type": "code",
   "execution_count": 24,
   "id": "81563331",
   "metadata": {},
   "outputs": [
    {
     "data": {
      "text/plain": [
       "Text(0.5, 1.0, 'all bundesliga games')"
      ]
     },
     "execution_count": 24,
     "metadata": {},
     "output_type": "execute_result"
    },
    {
     "data": {
      "image/png": "[encoded data removed]",
      "text/plain": [
       "<Figure size 1000x500 with 2 Axes>"
      ]
     },
     "metadata": {},
     "output_type": "display_data"
    }
   ],
   "source": [
    "fig, axes = plt.subplots(1, 2, sharex=True, figsize=(10, 5))\n",
    "fig.suptitle('all bundesliga games')\n",
    "\n",
    "table = data['FTR'].replace({0: 'Lose', 1: 'Draw', 2: 'Win'})\n",
    "\n",
    "all_ftr = table.value_counts()\n",
    "bayern_ftr = table[data.HomeTeam == 'Bayern Munich'].value_counts()\n",
    "\n",
    "sns.barplot(ax=axes[0], x=bayern_ftr.index, y=bayern_ftr.values)\n",
    "axes[0].set_title('Bayern games')\n",
    "\n",
    "sns.barplot(ax=axes[1], x=all_ftr.index, y=all_ftr.values)\n",
    "axes[1].set_title('all bundesliga games')"
   ]
  },
  {
   "cell_type": "code",
   "execution_count": 25,
   "id": "3989b399",
   "metadata": {},
   "outputs": [
    {
     "name": "stdout",
     "output_type": "stream",
     "text": [
      "2    320\n",
      "1     72\n",
      "0     33\n",
      "Name: FTR, dtype: int64\n"
     ]
    }
   ],
   "source": [
    "print(data[data.HomeTeam == 'Bayern Munich'].FTR.value_counts())"
   ]
  },
  {
   "cell_type": "markdown",
   "id": "0391a027",
   "metadata": {},
   "source": [
    "# Рассмотрим подробней категориальные данные"
   ]
  },
  {
   "cell_type": "markdown",
   "id": "55619862",
   "metadata": {},
   "source": [
    "Преобразуем тип данных Date в дни недели когда были сыграны игры между командами"
   ]
  },
  {
   "cell_type": "code",
   "execution_count": 26,
   "id": "60172e10",
   "metadata": {},
   "outputs": [
    {
     "data": {
      "text/html": [
       "<div>\n",
       "<style scoped>\n",
       "    .dataframe tbody tr th:only-of-type {\n",
       "        vertical-align: middle;\n",
       "    }\n",
       "\n",
       "    .dataframe tbody tr th {\n",
       "        vertical-align: top;\n",
       "    }\n",
       "\n",
       "    .dataframe thead th {\n",
       "        text-align: right;\n",
       "    }\n",
       "</style>\n",
       "<table border=\"1\" class=\"dataframe\">\n",
       "  <thead>\n",
       "    <tr style=\"text-align: right;\">\n",
       "      <th></th>\n",
       "      <th>FTHG</th>\n",
       "      <th>FTAG</th>\n",
       "      <th>FTR</th>\n",
       "      <th>HTHG</th>\n",
       "      <th>HTAG</th>\n",
       "      <th>HomeTeam_Aachen</th>\n",
       "      <th>HomeTeam_Augsburg</th>\n",
       "      <th>HomeTeam_Bayern Munich</th>\n",
       "      <th>HomeTeam_Bielefeld</th>\n",
       "      <th>HomeTeam_Bochum</th>\n",
       "      <th>...</th>\n",
       "      <th>HTR_0</th>\n",
       "      <th>HTR_1</th>\n",
       "      <th>HTR_2</th>\n",
       "      <th>MatchDay_Friday</th>\n",
       "      <th>MatchDay_Monday</th>\n",
       "      <th>MatchDay_Saturday</th>\n",
       "      <th>MatchDay_Sunday</th>\n",
       "      <th>MatchDay_Thursday</th>\n",
       "      <th>MatchDay_Tuesday</th>\n",
       "      <th>MatchDay_Wednesday</th>\n",
       "    </tr>\n",
       "  </thead>\n",
       "  <tbody>\n",
       "    <tr>\n",
       "      <th>0</th>\n",
       "      <td>3</td>\n",
       "      <td>1</td>\n",
       "      <td>2</td>\n",
       "      <td>1.0</td>\n",
       "      <td>0.0</td>\n",
       "      <td>0</td>\n",
       "      <td>0</td>\n",
       "      <td>1</td>\n",
       "      <td>0</td>\n",
       "      <td>0</td>\n",
       "      <td>...</td>\n",
       "      <td>0</td>\n",
       "      <td>1</td>\n",
       "      <td>0</td>\n",
       "      <td>0</td>\n",
       "      <td>0</td>\n",
       "      <td>0</td>\n",
       "      <td>0</td>\n",
       "      <td>1</td>\n",
       "      <td>0</td>\n",
       "      <td>0</td>\n",
       "    </tr>\n",
       "    <tr>\n",
       "      <th>1</th>\n",
       "      <td>2</td>\n",
       "      <td>1</td>\n",
       "      <td>2</td>\n",
       "      <td>1.0</td>\n",
       "      <td>0.0</td>\n",
       "      <td>0</td>\n",
       "      <td>0</td>\n",
       "      <td>0</td>\n",
       "      <td>0</td>\n",
       "      <td>0</td>\n",
       "      <td>...</td>\n",
       "      <td>0</td>\n",
       "      <td>1</td>\n",
       "      <td>0</td>\n",
       "      <td>0</td>\n",
       "      <td>0</td>\n",
       "      <td>0</td>\n",
       "      <td>0</td>\n",
       "      <td>1</td>\n",
       "      <td>0</td>\n",
       "      <td>0</td>\n",
       "    </tr>\n",
       "    <tr>\n",
       "      <th>2</th>\n",
       "      <td>2</td>\n",
       "      <td>2</td>\n",
       "      <td>1</td>\n",
       "      <td>1.0</td>\n",
       "      <td>0.0</td>\n",
       "      <td>0</td>\n",
       "      <td>0</td>\n",
       "      <td>0</td>\n",
       "      <td>0</td>\n",
       "      <td>0</td>\n",
       "      <td>...</td>\n",
       "      <td>0</td>\n",
       "      <td>1</td>\n",
       "      <td>0</td>\n",
       "      <td>0</td>\n",
       "      <td>0</td>\n",
       "      <td>0</td>\n",
       "      <td>0</td>\n",
       "      <td>1</td>\n",
       "      <td>0</td>\n",
       "      <td>0</td>\n",
       "    </tr>\n",
       "    <tr>\n",
       "      <th>3</th>\n",
       "      <td>0</td>\n",
       "      <td>2</td>\n",
       "      <td>0</td>\n",
       "      <td>1.0</td>\n",
       "      <td>0.0</td>\n",
       "      <td>0</td>\n",
       "      <td>0</td>\n",
       "      <td>0</td>\n",
       "      <td>0</td>\n",
       "      <td>0</td>\n",
       "      <td>...</td>\n",
       "      <td>0</td>\n",
       "      <td>1</td>\n",
       "      <td>0</td>\n",
       "      <td>0</td>\n",
       "      <td>0</td>\n",
       "      <td>0</td>\n",
       "      <td>0</td>\n",
       "      <td>1</td>\n",
       "      <td>0</td>\n",
       "      <td>0</td>\n",
       "    </tr>\n",
       "    <tr>\n",
       "      <th>4</th>\n",
       "      <td>5</td>\n",
       "      <td>2</td>\n",
       "      <td>2</td>\n",
       "      <td>1.0</td>\n",
       "      <td>0.0</td>\n",
       "      <td>0</td>\n",
       "      <td>0</td>\n",
       "      <td>0</td>\n",
       "      <td>0</td>\n",
       "      <td>0</td>\n",
       "      <td>...</td>\n",
       "      <td>0</td>\n",
       "      <td>1</td>\n",
       "      <td>0</td>\n",
       "      <td>0</td>\n",
       "      <td>0</td>\n",
       "      <td>0</td>\n",
       "      <td>0</td>\n",
       "      <td>1</td>\n",
       "      <td>0</td>\n",
       "      <td>0</td>\n",
       "    </tr>\n",
       "    <tr>\n",
       "      <th>...</th>\n",
       "      <td>...</td>\n",
       "      <td>...</td>\n",
       "      <td>...</td>\n",
       "      <td>...</td>\n",
       "      <td>...</td>\n",
       "      <td>...</td>\n",
       "      <td>...</td>\n",
       "      <td>...</td>\n",
       "      <td>...</td>\n",
       "      <td>...</td>\n",
       "      <td>...</td>\n",
       "      <td>...</td>\n",
       "      <td>...</td>\n",
       "      <td>...</td>\n",
       "      <td>...</td>\n",
       "      <td>...</td>\n",
       "      <td>...</td>\n",
       "      <td>...</td>\n",
       "      <td>...</td>\n",
       "      <td>...</td>\n",
       "      <td>...</td>\n",
       "    </tr>\n",
       "    <tr>\n",
       "      <th>7645</th>\n",
       "      <td>3</td>\n",
       "      <td>1</td>\n",
       "      <td>2</td>\n",
       "      <td>1.0</td>\n",
       "      <td>0.0</td>\n",
       "      <td>0</td>\n",
       "      <td>0</td>\n",
       "      <td>0</td>\n",
       "      <td>0</td>\n",
       "      <td>0</td>\n",
       "      <td>...</td>\n",
       "      <td>0</td>\n",
       "      <td>0</td>\n",
       "      <td>1</td>\n",
       "      <td>0</td>\n",
       "      <td>0</td>\n",
       "      <td>0</td>\n",
       "      <td>0</td>\n",
       "      <td>0</td>\n",
       "      <td>0</td>\n",
       "      <td>1</td>\n",
       "    </tr>\n",
       "    <tr>\n",
       "      <th>7646</th>\n",
       "      <td>3</td>\n",
       "      <td>2</td>\n",
       "      <td>2</td>\n",
       "      <td>2.0</td>\n",
       "      <td>0.0</td>\n",
       "      <td>0</td>\n",
       "      <td>0</td>\n",
       "      <td>0</td>\n",
       "      <td>0</td>\n",
       "      <td>0</td>\n",
       "      <td>...</td>\n",
       "      <td>0</td>\n",
       "      <td>0</td>\n",
       "      <td>1</td>\n",
       "      <td>0</td>\n",
       "      <td>0</td>\n",
       "      <td>0</td>\n",
       "      <td>0</td>\n",
       "      <td>0</td>\n",
       "      <td>0</td>\n",
       "      <td>1</td>\n",
       "    </tr>\n",
       "    <tr>\n",
       "      <th>7647</th>\n",
       "      <td>1</td>\n",
       "      <td>2</td>\n",
       "      <td>0</td>\n",
       "      <td>1.0</td>\n",
       "      <td>1.0</td>\n",
       "      <td>0</td>\n",
       "      <td>0</td>\n",
       "      <td>0</td>\n",
       "      <td>0</td>\n",
       "      <td>0</td>\n",
       "      <td>...</td>\n",
       "      <td>0</td>\n",
       "      <td>1</td>\n",
       "      <td>0</td>\n",
       "      <td>0</td>\n",
       "      <td>0</td>\n",
       "      <td>0</td>\n",
       "      <td>0</td>\n",
       "      <td>0</td>\n",
       "      <td>0</td>\n",
       "      <td>1</td>\n",
       "    </tr>\n",
       "    <tr>\n",
       "      <th>7648</th>\n",
       "      <td>1</td>\n",
       "      <td>0</td>\n",
       "      <td>2</td>\n",
       "      <td>1.0</td>\n",
       "      <td>0.0</td>\n",
       "      <td>0</td>\n",
       "      <td>0</td>\n",
       "      <td>0</td>\n",
       "      <td>0</td>\n",
       "      <td>0</td>\n",
       "      <td>...</td>\n",
       "      <td>0</td>\n",
       "      <td>0</td>\n",
       "      <td>1</td>\n",
       "      <td>0</td>\n",
       "      <td>0</td>\n",
       "      <td>0</td>\n",
       "      <td>0</td>\n",
       "      <td>0</td>\n",
       "      <td>0</td>\n",
       "      <td>1</td>\n",
       "    </tr>\n",
       "    <tr>\n",
       "      <th>7649</th>\n",
       "      <td>4</td>\n",
       "      <td>1</td>\n",
       "      <td>2</td>\n",
       "      <td>1.0</td>\n",
       "      <td>1.0</td>\n",
       "      <td>0</td>\n",
       "      <td>0</td>\n",
       "      <td>0</td>\n",
       "      <td>0</td>\n",
       "      <td>0</td>\n",
       "      <td>...</td>\n",
       "      <td>0</td>\n",
       "      <td>1</td>\n",
       "      <td>0</td>\n",
       "      <td>0</td>\n",
       "      <td>0</td>\n",
       "      <td>0</td>\n",
       "      <td>0</td>\n",
       "      <td>0</td>\n",
       "      <td>0</td>\n",
       "      <td>1</td>\n",
       "    </tr>\n",
       "  </tbody>\n",
       "</table>\n",
       "<p>7650 rows × 101 columns</p>\n",
       "</div>"
      ],
      "text/plain": [
       "      FTHG  FTAG  FTR  HTHG  HTAG  HomeTeam_Aachen  HomeTeam_Augsburg  \\\n",
       "0        3     1    2   1.0   0.0                0                  0   \n",
       "1        2     1    2   1.0   0.0                0                  0   \n",
       "2        2     2    1   1.0   0.0                0                  0   \n",
       "3        0     2    0   1.0   0.0                0                  0   \n",
       "4        5     2    2   1.0   0.0                0                  0   \n",
       "...    ...   ...  ...   ...   ...              ...                ...   \n",
       "7645     3     1    2   1.0   0.0                0                  0   \n",
       "7646     3     2    2   2.0   0.0                0                  0   \n",
       "7647     1     2    0   1.0   1.0                0                  0   \n",
       "7648     1     0    2   1.0   0.0                0                  0   \n",
       "7649     4     1    2   1.0   1.0                0                  0   \n",
       "\n",
       "      HomeTeam_Bayern Munich  HomeTeam_Bielefeld  HomeTeam_Bochum  ...  HTR_0  \\\n",
       "0                          1                   0                0  ...      0   \n",
       "1                          0                   0                0  ...      0   \n",
       "2                          0                   0                0  ...      0   \n",
       "3                          0                   0                0  ...      0   \n",
       "4                          0                   0                0  ...      0   \n",
       "...                      ...                 ...              ...  ...    ...   \n",
       "7645                       0                   0                0  ...      0   \n",
       "7646                       0                   0                0  ...      0   \n",
       "7647                       0                   0                0  ...      0   \n",
       "7648                       0                   0                0  ...      0   \n",
       "7649                       0                   0                0  ...      0   \n",
       "\n",
       "      HTR_1  HTR_2  MatchDay_Friday  MatchDay_Monday  MatchDay_Saturday  \\\n",
       "0         1      0                0                0                  0   \n",
       "1         1      0                0                0                  0   \n",
       "2         1      0                0                0                  0   \n",
       "3         1      0                0                0                  0   \n",
       "4         1      0                0                0                  0   \n",
       "...     ...    ...              ...              ...                ...   \n",
       "7645      0      1                0                0                  0   \n",
       "7646      0      1                0                0                  0   \n",
       "7647      1      0                0                0                  0   \n",
       "7648      0      1                0                0                  0   \n",
       "7649      1      0                0                0                  0   \n",
       "\n",
       "      MatchDay_Sunday  MatchDay_Thursday  MatchDay_Tuesday  MatchDay_Wednesday  \n",
       "0                   0                  1                 0                   0  \n",
       "1                   0                  1                 0                   0  \n",
       "2                   0                  1                 0                   0  \n",
       "3                   0                  1                 0                   0  \n",
       "4                   0                  1                 0                   0  \n",
       "...               ...                ...               ...                 ...  \n",
       "7645                0                  0                 0                   1  \n",
       "7646                0                  0                 0                   1  \n",
       "7647                0                  0                 0                   1  \n",
       "7648                0                  0                 0                   1  \n",
       "7649                0                  0                 0                   1  \n",
       "\n",
       "[7650 rows x 101 columns]"
      ]
     },
     "execution_count": 26,
     "metadata": {},
     "output_type": "execute_result"
    }
   ],
   "source": [
    "data['MatchDate'] = pd.to_datetime(data['Date'], infer_datetime_format=True)\n",
    "data['MatchDay'] = data['MatchDate'].dt.day_name()\n",
    "\n",
    "data.drop('Date', axis=1, inplace=True)\n",
    "data.drop('MatchDate', axis=1, inplace=True)\n",
    "\n",
    "data = pd.get_dummies(data, \n",
    "                       columns=['HomeTeam', 'AwayTeam', 'HTR', 'MatchDay'],\n",
    "                       prefix = ['HomeTeam', 'AwayTeam', 'HTR', 'MatchDay']\n",
    ")\n",
    "\n",
    "data"
   ]
  },
  {
   "cell_type": "markdown",
   "id": "23bbf7b9",
   "metadata": {},
   "source": [
    "# Обучающая и тестовая выборки"
   ]
  },
  {
   "cell_type": "code",
   "execution_count": 27,
   "id": "e4f4f20f",
   "metadata": {},
   "outputs": [],
   "source": [
    "x = pd.concat([data.iloc[:, :2], data.iloc[:, 3:]], axis=1)\n",
    "y = np.ravel(data['FTR'])"
   ]
  },
  {
   "cell_type": "markdown",
   "id": "600c17fa",
   "metadata": {},
   "source": [
    "# Нормализация признаков"
   ]
  },
  {
   "cell_type": "code",
   "execution_count": 28,
   "id": "6e8cd6ac",
   "metadata": {},
   "outputs": [
    {
     "data": {
      "text/html": [
       "<div>\n",
       "<style scoped>\n",
       "    .dataframe tbody tr th:only-of-type {\n",
       "        vertical-align: middle;\n",
       "    }\n",
       "\n",
       "    .dataframe tbody tr th {\n",
       "        vertical-align: top;\n",
       "    }\n",
       "\n",
       "    .dataframe thead th {\n",
       "        text-align: right;\n",
       "    }\n",
       "</style>\n",
       "<table border=\"1\" class=\"dataframe\">\n",
       "  <thead>\n",
       "    <tr style=\"text-align: right;\">\n",
       "      <th></th>\n",
       "      <th>FTHG</th>\n",
       "      <th>FTAG</th>\n",
       "      <th>HTHG</th>\n",
       "      <th>HTAG</th>\n",
       "      <th>HomeTeam_Aachen</th>\n",
       "      <th>HomeTeam_Augsburg</th>\n",
       "      <th>HomeTeam_Bayern Munich</th>\n",
       "      <th>HomeTeam_Bielefeld</th>\n",
       "      <th>HomeTeam_Bochum</th>\n",
       "      <th>HomeTeam_Braunschweig</th>\n",
       "      <th>...</th>\n",
       "      <th>HTR_0</th>\n",
       "      <th>HTR_1</th>\n",
       "      <th>HTR_2</th>\n",
       "      <th>MatchDay_Friday</th>\n",
       "      <th>MatchDay_Monday</th>\n",
       "      <th>MatchDay_Saturday</th>\n",
       "      <th>MatchDay_Sunday</th>\n",
       "      <th>MatchDay_Thursday</th>\n",
       "      <th>MatchDay_Tuesday</th>\n",
       "      <th>MatchDay_Wednesday</th>\n",
       "    </tr>\n",
       "  </thead>\n",
       "  <tbody>\n",
       "    <tr>\n",
       "      <th>count</th>\n",
       "      <td>7.650000e+03</td>\n",
       "      <td>7.650000e+03</td>\n",
       "      <td>7.650000e+03</td>\n",
       "      <td>7.650000e+03</td>\n",
       "      <td>7.650000e+03</td>\n",
       "      <td>7.650000e+03</td>\n",
       "      <td>7.650000e+03</td>\n",
       "      <td>7.650000e+03</td>\n",
       "      <td>7.650000e+03</td>\n",
       "      <td>7.650000e+03</td>\n",
       "      <td>...</td>\n",
       "      <td>7.650000e+03</td>\n",
       "      <td>7.650000e+03</td>\n",
       "      <td>7.650000e+03</td>\n",
       "      <td>7.650000e+03</td>\n",
       "      <td>7.650000e+03</td>\n",
       "      <td>7.650000e+03</td>\n",
       "      <td>7.650000e+03</td>\n",
       "      <td>7.650000e+03</td>\n",
       "      <td>7.650000e+03</td>\n",
       "      <td>7.650000e+03</td>\n",
       "    </tr>\n",
       "    <tr>\n",
       "      <th>mean</th>\n",
       "      <td>-7.067694e-16</td>\n",
       "      <td>5.321778e-16</td>\n",
       "      <td>9.913493e-16</td>\n",
       "      <td>7.567367e-15</td>\n",
       "      <td>-5.594635e-16</td>\n",
       "      <td>-7.208649e-15</td>\n",
       "      <td>1.347506e-17</td>\n",
       "      <td>2.081320e-15</td>\n",
       "      <td>5.689501e-15</td>\n",
       "      <td>2.182396e-15</td>\n",
       "      <td>...</td>\n",
       "      <td>-1.970363e-15</td>\n",
       "      <td>-2.918334e-15</td>\n",
       "      <td>6.363450e-15</td>\n",
       "      <td>2.828703e-15</td>\n",
       "      <td>4.773596e-16</td>\n",
       "      <td>-1.514257e-16</td>\n",
       "      <td>-5.215073e-15</td>\n",
       "      <td>-1.246316e-15</td>\n",
       "      <td>5.024158e-16</td>\n",
       "      <td>-1.335286e-15</td>\n",
       "    </tr>\n",
       "    <tr>\n",
       "      <th>std</th>\n",
       "      <td>1.000000e+00</td>\n",
       "      <td>1.000000e+00</td>\n",
       "      <td>1.000000e+00</td>\n",
       "      <td>1.000000e+00</td>\n",
       "      <td>1.000000e+00</td>\n",
       "      <td>1.000000e+00</td>\n",
       "      <td>1.000000e+00</td>\n",
       "      <td>1.000000e+00</td>\n",
       "      <td>1.000000e+00</td>\n",
       "      <td>1.000000e+00</td>\n",
       "      <td>...</td>\n",
       "      <td>1.000000e+00</td>\n",
       "      <td>1.000000e+00</td>\n",
       "      <td>1.000000e+00</td>\n",
       "      <td>1.000000e+00</td>\n",
       "      <td>1.000000e+00</td>\n",
       "      <td>1.000000e+00</td>\n",
       "      <td>1.000000e+00</td>\n",
       "      <td>1.000000e+00</td>\n",
       "      <td>1.000000e+00</td>\n",
       "      <td>1.000000e+00</td>\n",
       "    </tr>\n",
       "    <tr>\n",
       "      <th>min</th>\n",
       "      <td>-1.245988e+00</td>\n",
       "      <td>-1.048765e+00</td>\n",
       "      <td>-9.129289e-01</td>\n",
       "      <td>-6.894365e-01</td>\n",
       "      <td>-4.718983e-02</td>\n",
       "      <td>-1.256952e-01</td>\n",
       "      <td>-2.425198e-01</td>\n",
       "      <td>-1.428478e-01</td>\n",
       "      <td>-1.655104e-01</td>\n",
       "      <td>-4.718983e-02</td>\n",
       "      <td>...</td>\n",
       "      <td>-5.221409e-01</td>\n",
       "      <td>-9.108224e-01</td>\n",
       "      <td>-7.053975e-01</td>\n",
       "      <td>-3.685644e-01</td>\n",
       "      <td>-2.153194e-01</td>\n",
       "      <td>-9.499441e-01</td>\n",
       "      <td>-4.278875e-01</td>\n",
       "      <td>-2.425198e-01</td>\n",
       "      <td>-2.791237e-01</td>\n",
       "      <td>-2.930278e-01</td>\n",
       "    </tr>\n",
       "    <tr>\n",
       "      <th>25%</th>\n",
       "      <td>-4.953929e-01</td>\n",
       "      <td>-1.048765e+00</td>\n",
       "      <td>-9.129289e-01</td>\n",
       "      <td>-6.894365e-01</td>\n",
       "      <td>-4.718983e-02</td>\n",
       "      <td>-1.256952e-01</td>\n",
       "      <td>-2.425198e-01</td>\n",
       "      <td>-1.428478e-01</td>\n",
       "      <td>-1.655104e-01</td>\n",
       "      <td>-4.718983e-02</td>\n",
       "      <td>...</td>\n",
       "      <td>-5.221409e-01</td>\n",
       "      <td>-9.108224e-01</td>\n",
       "      <td>-7.053975e-01</td>\n",
       "      <td>-3.685644e-01</td>\n",
       "      <td>-2.153194e-01</td>\n",
       "      <td>-9.499441e-01</td>\n",
       "      <td>-4.278875e-01</td>\n",
       "      <td>-2.425198e-01</td>\n",
       "      <td>-2.791237e-01</td>\n",
       "      <td>-2.930278e-01</td>\n",
       "    </tr>\n",
       "    <tr>\n",
       "      <th>50%</th>\n",
       "      <td>-4.953929e-01</td>\n",
       "      <td>-1.854213e-01</td>\n",
       "      <td>3.050526e-01</td>\n",
       "      <td>-6.894365e-01</td>\n",
       "      <td>-4.718983e-02</td>\n",
       "      <td>-1.256952e-01</td>\n",
       "      <td>-2.425198e-01</td>\n",
       "      <td>-1.428478e-01</td>\n",
       "      <td>-1.655104e-01</td>\n",
       "      <td>-4.718983e-02</td>\n",
       "      <td>...</td>\n",
       "      <td>-5.221409e-01</td>\n",
       "      <td>-9.108224e-01</td>\n",
       "      <td>-7.053975e-01</td>\n",
       "      <td>-3.685644e-01</td>\n",
       "      <td>-2.153194e-01</td>\n",
       "      <td>-9.499441e-01</td>\n",
       "      <td>-4.278875e-01</td>\n",
       "      <td>-2.425198e-01</td>\n",
       "      <td>-2.791237e-01</td>\n",
       "      <td>-2.930278e-01</td>\n",
       "    </tr>\n",
       "    <tr>\n",
       "      <th>75%</th>\n",
       "      <td>2.552024e-01</td>\n",
       "      <td>6.779220e-01</td>\n",
       "      <td>3.050526e-01</td>\n",
       "      <td>7.414342e-01</td>\n",
       "      <td>-4.718983e-02</td>\n",
       "      <td>-1.256952e-01</td>\n",
       "      <td>-2.425198e-01</td>\n",
       "      <td>-1.428478e-01</td>\n",
       "      <td>-1.655104e-01</td>\n",
       "      <td>-4.718983e-02</td>\n",
       "      <td>...</td>\n",
       "      <td>-5.221409e-01</td>\n",
       "      <td>1.097765e+00</td>\n",
       "      <td>1.417455e+00</td>\n",
       "      <td>-3.685644e-01</td>\n",
       "      <td>-2.153194e-01</td>\n",
       "      <td>1.052556e+00</td>\n",
       "      <td>-4.278875e-01</td>\n",
       "      <td>-2.425198e-01</td>\n",
       "      <td>-2.791237e-01</td>\n",
       "      <td>-2.930278e-01</td>\n",
       "    </tr>\n",
       "    <tr>\n",
       "      <th>max</th>\n",
       "      <td>5.509370e+00</td>\n",
       "      <td>6.721326e+00</td>\n",
       "      <td>5.176978e+00</td>\n",
       "      <td>6.464917e+00</td>\n",
       "      <td>2.118824e+01</td>\n",
       "      <td>7.954712e+00</td>\n",
       "      <td>4.122836e+00</td>\n",
       "      <td>6.999542e+00</td>\n",
       "      <td>6.041128e+00</td>\n",
       "      <td>2.118824e+01</td>\n",
       "      <td>...</td>\n",
       "      <td>1.914941e+00</td>\n",
       "      <td>1.097765e+00</td>\n",
       "      <td>1.417455e+00</td>\n",
       "      <td>2.712876e+00</td>\n",
       "      <td>4.643657e+00</td>\n",
       "      <td>1.052556e+00</td>\n",
       "      <td>2.336757e+00</td>\n",
       "      <td>4.122836e+00</td>\n",
       "      <td>3.582172e+00</td>\n",
       "      <td>3.412200e+00</td>\n",
       "    </tr>\n",
       "  </tbody>\n",
       "</table>\n",
       "<p>8 rows × 100 columns</p>\n",
       "</div>"
      ],
      "text/plain": [
       "               FTHG          FTAG          HTHG          HTAG  \\\n",
       "count  7.650000e+03  7.650000e+03  7.650000e+03  7.650000e+03   \n",
       "mean  -7.067694e-16  5.321778e-16  9.913493e-16  7.567367e-15   \n",
       "std    1.000000e+00  1.000000e+00  1.000000e+00  1.000000e+00   \n",
       "min   -1.245988e+00 -1.048765e+00 -9.129289e-01 -6.894365e-01   \n",
       "25%   -4.953929e-01 -1.048765e+00 -9.129289e-01 -6.894365e-01   \n",
       "50%   -4.953929e-01 -1.854213e-01  3.050526e-01 -6.894365e-01   \n",
       "75%    2.552024e-01  6.779220e-01  3.050526e-01  7.414342e-01   \n",
       "max    5.509370e+00  6.721326e+00  5.176978e+00  6.464917e+00   \n",
       "\n",
       "       HomeTeam_Aachen  HomeTeam_Augsburg  HomeTeam_Bayern Munich  \\\n",
       "count     7.650000e+03       7.650000e+03            7.650000e+03   \n",
       "mean     -5.594635e-16      -7.208649e-15            1.347506e-17   \n",
       "std       1.000000e+00       1.000000e+00            1.000000e+00   \n",
       "min      -4.718983e-02      -1.256952e-01           -2.425198e-01   \n",
       "25%      -4.718983e-02      -1.256952e-01           -2.425198e-01   \n",
       "50%      -4.718983e-02      -1.256952e-01           -2.425198e-01   \n",
       "75%      -4.718983e-02      -1.256952e-01           -2.425198e-01   \n",
       "max       2.118824e+01       7.954712e+00            4.122836e+00   \n",
       "\n",
       "       HomeTeam_Bielefeld  HomeTeam_Bochum  HomeTeam_Braunschweig  ...  \\\n",
       "count        7.650000e+03     7.650000e+03           7.650000e+03  ...   \n",
       "mean         2.081320e-15     5.689501e-15           2.182396e-15  ...   \n",
       "std          1.000000e+00     1.000000e+00           1.000000e+00  ...   \n",
       "min         -1.428478e-01    -1.655104e-01          -4.718983e-02  ...   \n",
       "25%         -1.428478e-01    -1.655104e-01          -4.718983e-02  ...   \n",
       "50%         -1.428478e-01    -1.655104e-01          -4.718983e-02  ...   \n",
       "75%         -1.428478e-01    -1.655104e-01          -4.718983e-02  ...   \n",
       "max          6.999542e+00     6.041128e+00           2.118824e+01  ...   \n",
       "\n",
       "              HTR_0         HTR_1         HTR_2  MatchDay_Friday  \\\n",
       "count  7.650000e+03  7.650000e+03  7.650000e+03     7.650000e+03   \n",
       "mean  -1.970363e-15 -2.918334e-15  6.363450e-15     2.828703e-15   \n",
       "std    1.000000e+00  1.000000e+00  1.000000e+00     1.000000e+00   \n",
       "min   -5.221409e-01 -9.108224e-01 -7.053975e-01    -3.685644e-01   \n",
       "25%   -5.221409e-01 -9.108224e-01 -7.053975e-01    -3.685644e-01   \n",
       "50%   -5.221409e-01 -9.108224e-01 -7.053975e-01    -3.685644e-01   \n",
       "75%   -5.221409e-01  1.097765e+00  1.417455e+00    -3.685644e-01   \n",
       "max    1.914941e+00  1.097765e+00  1.417455e+00     2.712876e+00   \n",
       "\n",
       "       MatchDay_Monday  MatchDay_Saturday  MatchDay_Sunday  MatchDay_Thursday  \\\n",
       "count     7.650000e+03       7.650000e+03     7.650000e+03       7.650000e+03   \n",
       "mean      4.773596e-16      -1.514257e-16    -5.215073e-15      -1.246316e-15   \n",
       "std       1.000000e+00       1.000000e+00     1.000000e+00       1.000000e+00   \n",
       "min      -2.153194e-01      -9.499441e-01    -4.278875e-01      -2.425198e-01   \n",
       "25%      -2.153194e-01      -9.499441e-01    -4.278875e-01      -2.425198e-01   \n",
       "50%      -2.153194e-01      -9.499441e-01    -4.278875e-01      -2.425198e-01   \n",
       "75%      -2.153194e-01       1.052556e+00    -4.278875e-01      -2.425198e-01   \n",
       "max       4.643657e+00       1.052556e+00     2.336757e+00       4.122836e+00   \n",
       "\n",
       "       MatchDay_Tuesday  MatchDay_Wednesday  \n",
       "count      7.650000e+03        7.650000e+03  \n",
       "mean       5.024158e-16       -1.335286e-15  \n",
       "std        1.000000e+00        1.000000e+00  \n",
       "min       -2.791237e-01       -2.930278e-01  \n",
       "25%       -2.791237e-01       -2.930278e-01  \n",
       "50%       -2.791237e-01       -2.930278e-01  \n",
       "75%       -2.791237e-01       -2.930278e-01  \n",
       "max        3.582172e+00        3.412200e+00  \n",
       "\n",
       "[8 rows x 100 columns]"
      ]
     },
     "execution_count": 28,
     "metadata": {},
     "output_type": "execute_result"
    }
   ],
   "source": [
    "x_std = (x - x.mean(axis=0)) / x.std(axis=0)\n",
    "x_std.describe()"
   ]
  },
  {
   "cell_type": "code",
   "execution_count": 29,
   "id": "53681ff9",
   "metadata": {},
   "outputs": [],
   "source": [
    "from sklearn.model_selection import train_test_split"
   ]
  },
  {
   "cell_type": "code",
   "execution_count": 30,
   "id": "e3e9c921",
   "metadata": {},
   "outputs": [
    {
     "name": "stdout",
     "output_type": "stream",
     "text": [
      "(6120, 100) (1530, 100)\n"
     ]
    }
   ],
   "source": [
    "x_train, x_test, y_train, y_test = train_test_split(x_std, y, test_size=0.2, shuffle=False, random_state=42)\n",
    "print(x_train.shape , x_test.shape)"
   ]
  },
  {
   "cell_type": "markdown",
   "id": "4735c760",
   "metadata": {},
   "source": [
    "# Классификация KNN"
   ]
  },
  {
   "cell_type": "markdown",
   "id": "b3143f11",
   "metadata": {},
   "source": [
    "Выберу 5 ближайших соседей"
   ]
  },
  {
   "cell_type": "code",
   "execution_count": 31,
   "id": "1dd76d2d",
   "metadata": {},
   "outputs": [],
   "source": [
    "from sklearn.neighbors import KNeighborsClassifier\n",
    "from sklearn.metrics import f1_score"
   ]
  },
  {
   "cell_type": "code",
   "execution_count": 32,
   "id": "ca81348a",
   "metadata": {},
   "outputs": [
    {
     "name": "stderr",
     "output_type": "stream",
     "text": [
      "C:\\ANACONDA\\lib\\site-packages\\sklearn\\neighbors\\_classification.py:228: FutureWarning: Unlike other reduction functions (e.g. `skew`, `kurtosis`), the default behavior of `mode` typically preserves the axis it acts along. In SciPy 1.11.0, this behavior will change: the default value of `keepdims` will become False, the `axis` over which the statistic is taken will be eliminated, and the value None will no longer be accepted. Set `keepdims` to True or False to avoid this warning.\n",
      "  mode, _ = stats.mode(_y[neigh_ind, k], axis=1)\n",
      "C:\\ANACONDA\\lib\\site-packages\\sklearn\\neighbors\\_classification.py:228: FutureWarning: Unlike other reduction functions (e.g. `skew`, `kurtosis`), the default behavior of `mode` typically preserves the axis it acts along. In SciPy 1.11.0, this behavior will change: the default value of `keepdims` will become False, the `axis` over which the statistic is taken will be eliminated, and the value None will no longer be accepted. Set `keepdims` to True or False to avoid this warning.\n",
      "  mode, _ = stats.mode(_y[neigh_ind, k], axis=1)\n"
     ]
    },
    {
     "name": "stdout",
     "output_type": "stream",
     "text": [
      "f1_score for 5 neighbors  test = 0.5203069262103105\n",
      "f1_score for 5 neighbors  train = 0.6788982516578144\n"
     ]
    }
   ],
   "source": [
    "kn_clf_n = KNeighborsClassifier(n_neighbors=5)\n",
    "kn_clf_n.fit(x_train, y_train)\n",
    "y_pred_test_n = kn_clf_n.predict(x_test)\n",
    "y_pred_train_n = kn_clf_n.predict(x_train)\n",
    "print(f\"f1_score for 5 neighbors  test = {f1_score(y_test, y_pred_test_n,  average='macro')}\")\n",
    "print(f\"f1_score for 5 neighbors  train = {f1_score(y_train, y_pred_train_n,  average='macro')}\")"
   ]
  },
  {
   "cell_type": "markdown",
   "id": "550b35be",
   "metadata": {},
   "source": [
    "Выберу 10 ближайших соседей"
   ]
  },
  {
   "cell_type": "code",
   "execution_count": 33,
   "id": "38c47e20",
   "metadata": {},
   "outputs": [
    {
     "name": "stderr",
     "output_type": "stream",
     "text": [
      "C:\\ANACONDA\\lib\\site-packages\\sklearn\\neighbors\\_classification.py:228: FutureWarning: Unlike other reduction functions (e.g. `skew`, `kurtosis`), the default behavior of `mode` typically preserves the axis it acts along. In SciPy 1.11.0, this behavior will change: the default value of `keepdims` will become False, the `axis` over which the statistic is taken will be eliminated, and the value None will no longer be accepted. Set `keepdims` to True or False to avoid this warning.\n",
      "  mode, _ = stats.mode(_y[neigh_ind, k], axis=1)\n",
      "C:\\ANACONDA\\lib\\site-packages\\sklearn\\neighbors\\_classification.py:228: FutureWarning: Unlike other reduction functions (e.g. `skew`, `kurtosis`), the default behavior of `mode` typically preserves the axis it acts along. In SciPy 1.11.0, this behavior will change: the default value of `keepdims` will become False, the `axis` over which the statistic is taken will be eliminated, and the value None will no longer be accepted. Set `keepdims` to True or False to avoid this warning.\n",
      "  mode, _ = stats.mode(_y[neigh_ind, k], axis=1)\n"
     ]
    },
    {
     "name": "stdout",
     "output_type": "stream",
     "text": [
      "f1_score for 10 neighbors  test = 0.5238158040532693\n",
      "f1_score for 10 neighbors  train = 0.6186066275924272\n"
     ]
    }
   ],
   "source": [
    "kn_clf_n = KNeighborsClassifier(n_neighbors=10)\n",
    "kn_clf_n.fit(x_train, y_train)\n",
    "y_pred_test_n = kn_clf_n.predict(x_test)\n",
    "y_pred_train_n = kn_clf_n.predict(x_train)\n",
    "print(f\"f1_score for 10 neighbors  test = {f1_score(y_test, y_pred_test_n,  average='macro')}\")\n",
    "print(f\"f1_score for 10 neighbors  train = {f1_score(y_train, y_pred_train_n,  average='macro')}\")"
   ]
  },
  {
   "cell_type": "markdown",
   "id": "20cc720a",
   "metadata": {},
   "source": [
    "Выберу 20 ближайших соседей"
   ]
  },
  {
   "cell_type": "code",
   "execution_count": 34,
   "id": "ea853e90",
   "metadata": {},
   "outputs": [
    {
     "name": "stderr",
     "output_type": "stream",
     "text": [
      "C:\\ANACONDA\\lib\\site-packages\\sklearn\\neighbors\\_classification.py:228: FutureWarning: Unlike other reduction functions (e.g. `skew`, `kurtosis`), the default behavior of `mode` typically preserves the axis it acts along. In SciPy 1.11.0, this behavior will change: the default value of `keepdims` will become False, the `axis` over which the statistic is taken will be eliminated, and the value None will no longer be accepted. Set `keepdims` to True or False to avoid this warning.\n",
      "  mode, _ = stats.mode(_y[neigh_ind, k], axis=1)\n",
      "C:\\ANACONDA\\lib\\site-packages\\sklearn\\neighbors\\_classification.py:228: FutureWarning: Unlike other reduction functions (e.g. `skew`, `kurtosis`), the default behavior of `mode` typically preserves the axis it acts along. In SciPy 1.11.0, this behavior will change: the default value of `keepdims` will become False, the `axis` over which the statistic is taken will be eliminated, and the value None will no longer be accepted. Set `keepdims` to True or False to avoid this warning.\n",
      "  mode, _ = stats.mode(_y[neigh_ind, k], axis=1)\n"
     ]
    },
    {
     "name": "stdout",
     "output_type": "stream",
     "text": [
      "f1_score for 20 neighbors  test = 0.5579189329035275\n",
      "f1_score for 20 neighbors  train = 0.6048371789555321\n"
     ]
    }
   ],
   "source": [
    "kn_clf_n = KNeighborsClassifier(n_neighbors=20)\n",
    "kn_clf_n.fit(x_train, y_train)\n",
    "y_pred_test_n = kn_clf_n.predict(x_test)\n",
    "y_pred_train_n = kn_clf_n.predict(x_train)\n",
    "print(f\"f1_score for 20 neighbors  test = {f1_score(y_test, y_pred_test_n,  average='macro')}\")\n",
    "print(f\"f1_score for 20 neighbors  train = {f1_score(y_train, y_pred_train_n,  average='macro')}\")"
   ]
  },
  {
   "cell_type": "markdown",
   "id": "7c0d3b9a",
   "metadata": {},
   "source": [
    "SVC"
   ]
  },
  {
   "cell_type": "code",
   "execution_count": 36,
   "id": "0c32bbce",
   "metadata": {},
   "outputs": [
    {
     "name": "stdout",
     "output_type": "stream",
     "text": [
      "0.010294117647058823 0.08888888888888889\n"
     ]
    }
   ],
   "source": [
    "from sklearn.svm import SVC\n",
    "svc = SVC(gamma='auto')\n",
    "svc.fit(x_train, y_train)\n",
    "\n",
    "err_train = np.mean(y_train != svc.predict(x_train))\n",
    "err_test  = np.mean(y_test  != svc.predict(x_test))\n",
    "\n",
    "print(err_train, err_test)"
   ]
  },
  {
   "cell_type": "markdown",
   "id": "7d628348",
   "metadata": {},
   "source": [
    "# Вывод"
   ]
  },
  {
   "cell_type": "markdown",
   "id": "1ff6e920",
   "metadata": {},
   "source": [
    "Результаты получились удовлетворительными 50-60%. В данном dataset'e недостаточно большая выборка данных, малое количество признаков и т.д., поэтому метод KNN недостаточно качественно может предсказать исход игры команд. Стоит использовать другой метод, например SVC."
   ]
  }
 ],
 "metadata": {
  "kernelspec": {
   "display_name": "Python 3 (ipykernel)",
   "language": "python",
   "name": "python3"
  },
  "language_info": {
   "codemirror_mode": {
    "name": "ipython",
    "version": 3
   },
   "file_extension": ".py",
   "mimetype": "text/x-python",
   "name": "python",
   "nbconvert_exporter": "python",
   "pygments_lexer": "ipython3",
   "version": "3.9.13"
  }
 },
 "nbformat": 4,
 "nbformat_minor": 5
}
